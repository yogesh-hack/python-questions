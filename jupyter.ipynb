{
 "cells": [
  {
   "cell_type": "markdown",
   "id": "1b6d5877-36bb-4bd4-966e-f9273e929f4e",
   "metadata": {
    "tags": []
   },
   "source": [
    "# advance programming   -- yogesh\n"
   ]
  },
  {
   "cell_type": "code",
   "execution_count": 1,
   "id": "18efe7f8-fb5f-4fbd-b5d4-653b2ccb08f2",
   "metadata": {},
   "outputs": [
    {
     "name": "stdout",
     "output_type": "stream",
     "text": [
      "hello world\n"
     ]
    }
   ],
   "source": [
    "print(\"hello world\")"
   ]
  },
  {
   "cell_type": "code",
   "execution_count": null,
   "id": "38fc340d-5c8e-4008-a654-7db92d439311",
   "metadata": {},
   "outputs": [],
   "source": [
    "## 4444444\n",
    "## 4333334\n",
    "## 4322234\n",
    "## 4321234\n",
    "## 4322234\n",
    "## 4333334\n",
    "## 4444444"
   ]
  },
  {
   "cell_type": "markdown",
   "id": "a9f04315-5757-456f-a741-bc3a9300bcc2",
   "metadata": {},
   "source": [
    "### Test case\n",
    "Input : n=5   arr[n]=[3,30,34,5,9]\n",
    "\n",
    "Output : 9533430\n",
    "    "
   ]
  },
  {
   "cell_type": "code",
   "execution_count": 40,
   "id": "ec58d12c-9a9d-498a-8788-d7e60fba8f36",
   "metadata": {},
   "outputs": [
    {
     "name": "stdout",
     "output_type": "stream",
     "text": [
      "Output:  9533430\n"
     ]
    }
   ],
   "source": [
    "arr=[3,30,34,5,9]\n",
    "# res=int(\"\".join(map(str,arr)))\n",
    "# s=int(\"\".join(sorted([i for i in str(res)],reverse=True)))\n",
    "# print(s)\n",
    "a=[]\n",
    "b=[]\n",
    "for i in arr:\n",
    "    if(i>10):\n",
    "        a.append(i)\n",
    "    else:\n",
    "        b.append(i)\n",
    "r=sorted(a,reverse=True)\n",
    "s=sorted(b,reverse=True)\n",
    "m=s+r\n",
    "res=int(\"\".join(map(str,m)))\n",
    "print(\"Output: \",res)\n",
    "\n",
    "    \n",
    "    "
   ]
  },
  {
   "cell_type": "markdown",
   "id": "a41014af-dddf-4802-862f-10ace7595d9b",
   "metadata": {},
   "source": [
    "## Sum of vowel\n",
    "\n",
    "### Test Case\n",
    "Input: n=3  => 1 2 3\n",
    "\n",
    "output: 5"
   ]
  },
  {
   "cell_type": "code",
   "execution_count": 6,
   "id": "ee438788-3f1c-4b5a-86b5-7a5290ccb390",
   "metadata": {},
   "outputs": [
    {
     "name": "stdout",
     "output_type": "stream",
     "text": [
      "5\n"
     ]
    }
   ],
   "source": [
    "n=3\n",
    "l=[1,2,3]\n",
    "dict={\n",
    "    1:\"one\",\n",
    "    2:\"two\",\n",
    "    3:\"three\",\n",
    "    4:\"four\",\n",
    "    5:\"five\",\n",
    "    6:\"six\",\n",
    "    7:\"seven\",\n",
    "    8:\"eight\",\n",
    "    9:\"nine\",\n",
    "    10:\"ten\",\n",
    "    11:\"eleven\",\n",
    "    12:\"twelve\",\n",
    "    13:\"thirteen\",\n",
    "    14:\"foutee\",\n",
    "    15:\"fifteen\",\n",
    "    16:\"sixteen\",\n",
    "    17:\"seventeen\",\n",
    "    18:\"eighteen\"\n",
    "}\n",
    "\n",
    "v=['a','e','i','o','u']\n",
    "\n",
    "def vowel(s):\n",
    "    count=0\n",
    "    for i in s:\n",
    "        if i in v:\n",
    "            count+=1\n",
    "    return count\n",
    "ans=0\n",
    "for i in dict:\n",
    "    if i in l:\n",
    "        ans+=vowel(dict[i])\n",
    "print(ans)\n"
   ]
  },
  {
   "cell_type": "code",
   "execution_count": null,
   "id": "96ee3b82-65c2-47b5-a4f4-7c6832b1146f",
   "metadata": {},
   "outputs": [],
   "source": []
  }
 ],
 "metadata": {
  "kernelspec": {
   "display_name": "Python 3 (ipykernel)",
   "language": "python",
   "name": "python3"
  },
  "language_info": {
   "codemirror_mode": {
    "name": "ipython",
    "version": 3
   },
   "file_extension": ".py",
   "mimetype": "text/x-python",
   "name": "python",
   "nbconvert_exporter": "python",
   "pygments_lexer": "ipython3",
   "version": "3.9.2"
  }
 },
 "nbformat": 4,
 "nbformat_minor": 5
}
